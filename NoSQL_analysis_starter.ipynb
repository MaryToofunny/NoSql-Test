{
 "cells": [
  {
   "cell_type": "markdown",
   "id": "9a57c4c6",
   "metadata": {},
   "source": [
    "# Eat Safe, Love"
   ]
  },
  {
   "cell_type": "markdown",
   "id": "064ef857",
   "metadata": {},
   "source": [
    "## Notebook Set Up"
   ]
  },
  {
   "cell_type": "code",
   "execution_count": 116,
   "id": "3ecdd008",
   "metadata": {},
   "outputs": [],
   "source": [
    "# Import dependencies\n",
    "from pymongo import MongoClient\n",
    "from pprint import pprint\n",
    "import pandas as pd"
   ]
  },
  {
   "cell_type": "code",
   "execution_count": 117,
   "id": "59390c4a",
   "metadata": {},
   "outputs": [],
   "source": [
    "# Create an instance of MongoClient\n",
    "mongo = MongoClient(port=27017)"
   ]
  },
  {
   "cell_type": "code",
   "execution_count": 118,
   "id": "71e373c1",
   "metadata": {},
   "outputs": [
    {
     "name": "stdout",
     "output_type": "stream",
     "text": [
      "['admin', 'autosaurus', 'classDB', 'config', 'local', 'petsitly_marketing', 'uk_food']\n"
     ]
    }
   ],
   "source": [
    "# assign the uk_food database to a variable name\n",
    "# confirm that our new database was created\n",
    "db=mongo['uk_food']\n",
    "print(mongo.list_database_names())"
   ]
  },
  {
   "cell_type": "code",
   "execution_count": 119,
   "id": "18ab463c",
   "metadata": {},
   "outputs": [
    {
     "name": "stdout",
     "output_type": "stream",
     "text": [
      "['establishments']\n"
     ]
    }
   ],
   "source": [
    "# review the collections in our database\n",
    "print(db.list_collection_names())"
   ]
  },
  {
   "cell_type": "code",
   "execution_count": 120,
   "id": "11c9f11b",
   "metadata": {},
   "outputs": [],
   "source": [
    "# assign the collection to a variable\n",
    "establishments=db['establishments']"
   ]
  },
  {
   "cell_type": "code",
   "execution_count": 137,
   "id": "3f0c875d",
   "metadata": {},
   "outputs": [
    {
     "name": "stdout",
     "output_type": "stream",
     "text": [
      "{'AddressLine1': 'The Bay',\n",
      " 'AddressLine2': 'St Margarets Bay',\n",
      " 'AddressLine3': 'Kent',\n",
      " 'AddressLine4': '',\n",
      " 'BusinessName': 'Refreshment Kiosk',\n",
      " 'BusinessType': 'Restaurant/Cafe/Canteen',\n",
      " 'BusinessTypeID': 1,\n",
      " 'ChangesByServerID': 0,\n",
      " 'Distance': 4587.347174863443,\n",
      " 'FHRSID': 254719,\n",
      " 'LocalAuthorityBusinessID': 'PI/000069980',\n",
      " 'LocalAuthorityCode': '182',\n",
      " 'LocalAuthorityEmailAddress': 'publicprotection@dover.gov.uk',\n",
      " 'LocalAuthorityName': 'Dover',\n",
      " 'LocalAuthorityWebSite': 'http://www.dover.gov.uk/',\n",
      " 'NewRatingPending': False,\n",
      " 'Phone': '',\n",
      " 'PostCode': 'CT15 6DY',\n",
      " 'RatingDate': '2022-03-24T00:00:00',\n",
      " 'RatingKey': 'fhrs_5_en-gb',\n",
      " 'RatingValue': 5.0,\n",
      " 'RightToReply': '',\n",
      " 'SchemeType': 'FHRS',\n",
      " '_id': ObjectId('63cdb99abd029cb27489be9d'),\n",
      " 'geocode': {'latitude': '51.152225', 'longitude': '1.387974'},\n",
      " 'links': [{'href': 'https://api.ratings.food.gov.uk/establishments/254719',\n",
      "            'rel': 'self'}],\n",
      " 'meta': {'dataSource': None,\n",
      "          'extractDate': '0001-01-01T00:00:00',\n",
      "          'itemCount': 0,\n",
      "          'pageNumber': 0,\n",
      "          'pageSize': 0,\n",
      "          'returncode': None,\n",
      "          'totalCount': 0,\n",
      "          'totalPages': 0},\n",
      " 'scores': {'ConfidenceInManagement': 5, 'Hygiene': 0, 'Structural': 5}}\n"
     ]
    }
   ],
   "source": [
    "pprint(db.establishments.find_one())"
   ]
  },
  {
   "cell_type": "markdown",
   "id": "d5671434",
   "metadata": {},
   "source": [
    "## Part 3: Exploratory Analysis\n",
    "Unless otherwise stated, for each question: \n",
    "* Use `count_documents` to display the number of documents contained in the result.\n",
    "* Display the first document in the results using `pprint`.\n",
    "* Convert the result to a Pandas DataFrame, print the number of rows in the DataFrame, and display the first 10 rows."
   ]
  },
  {
   "cell_type": "markdown",
   "id": "314bd884",
   "metadata": {},
   "source": [
    "### 1. Which establishments have a hygiene score equal to 20?"
   ]
  },
  {
   "cell_type": "code",
   "execution_count": 170,
   "id": "51eb71bc",
   "metadata": {},
   "outputs": [
    {
     "data": {
      "text/plain": [
       "<pymongo.cursor.Cursor at 0x273ac8e1730>"
      ]
     },
     "execution_count": 170,
     "metadata": {},
     "output_type": "execute_result"
    }
   ],
   "source": [
    "# Find the establishments with a hygiene score of 20\n",
    "\n",
    "query = { 'scores.Hygiene':{'$eq' : 20}}\n",
    "fields = {'BusinessName':1,'BusinessType': 1,'LocalAuthorityName':1,'scores.Hygiene': 1}\n",
    "\n",
    "results = establishments.find(query, fields)\n",
    "results"
   ]
  },
  {
   "cell_type": "code",
   "execution_count": 171,
   "id": "c2da7648",
   "metadata": {},
   "outputs": [
    {
     "data": {
      "text/plain": [
       "41"
      ]
     },
     "execution_count": 171,
     "metadata": {},
     "output_type": "execute_result"
    }
   ],
   "source": [
    "# Use count_documents to display the number of documents in the result\n",
    "\n",
    "Hygine_Count = establishments.count_documents({'scores.Hygiene': {'$eq':20}})\n",
    "Hygine_Count\n"
   ]
  },
  {
   "cell_type": "code",
   "execution_count": 172,
   "id": "6a3ba1e6",
   "metadata": {},
   "outputs": [
    {
     "name": "stdout",
     "output_type": "stream",
     "text": [
      "{'BusinessName': 'The Chase Rest Home',\n",
      " 'BusinessType': 'Caring Premises',\n",
      " 'LocalAuthorityName': 'Eastbourne',\n",
      " '_id': ObjectId('63cdb99abd029cb27489dcbb'),\n",
      " 'scores': {'Hygiene': 20}}\n"
     ]
    }
   ],
   "source": [
    "# Display the first document in the results using pprint\n",
    "pprint(results[0])"
   ]
  },
  {
   "cell_type": "code",
   "execution_count": 173,
   "id": "56da2137",
   "metadata": {},
   "outputs": [],
   "source": [
    "# Convert the result to a Pandas DataFrame\n",
    "result_df = pd.DataFrame(list(results))"
   ]
  },
  {
   "cell_type": "code",
   "execution_count": 174,
   "id": "a6e5cece",
   "metadata": {},
   "outputs": [
    {
     "name": "stdout",
     "output_type": "stream",
     "text": [
      "Rows in DataFrame:  41\n"
     ]
    },
    {
     "data": {
      "text/html": [
       "<div>\n",
       "<style scoped>\n",
       "    .dataframe tbody tr th:only-of-type {\n",
       "        vertical-align: middle;\n",
       "    }\n",
       "\n",
       "    .dataframe tbody tr th {\n",
       "        vertical-align: top;\n",
       "    }\n",
       "\n",
       "    .dataframe thead th {\n",
       "        text-align: right;\n",
       "    }\n",
       "</style>\n",
       "<table border=\"1\" class=\"dataframe\">\n",
       "  <thead>\n",
       "    <tr style=\"text-align: right;\">\n",
       "      <th></th>\n",
       "      <th>_id</th>\n",
       "      <th>BusinessName</th>\n",
       "      <th>BusinessType</th>\n",
       "      <th>LocalAuthorityName</th>\n",
       "      <th>scores</th>\n",
       "    </tr>\n",
       "  </thead>\n",
       "  <tbody>\n",
       "    <tr>\n",
       "      <th>0</th>\n",
       "      <td>63cdb99abd029cb27489dcbb</td>\n",
       "      <td>The Chase Rest Home</td>\n",
       "      <td>Caring Premises</td>\n",
       "      <td>Eastbourne</td>\n",
       "      <td>{'Hygiene': 20}</td>\n",
       "    </tr>\n",
       "    <tr>\n",
       "      <th>1</th>\n",
       "      <td>63cdb99abd029cb27489e03a</td>\n",
       "      <td>Brenalwood</td>\n",
       "      <td>Caring Premises</td>\n",
       "      <td>Tendring</td>\n",
       "      <td>{'Hygiene': 20}</td>\n",
       "    </tr>\n",
       "    <tr>\n",
       "      <th>2</th>\n",
       "      <td>63cdb99abd029cb27489e342</td>\n",
       "      <td>Melrose Hotel</td>\n",
       "      <td>Hotel/bed &amp; breakfast/guest house</td>\n",
       "      <td>Tendring</td>\n",
       "      <td>{'Hygiene': 20}</td>\n",
       "    </tr>\n",
       "    <tr>\n",
       "      <th>3</th>\n",
       "      <td>63cdb99abd029cb27489e52f</td>\n",
       "      <td>Seaford Pizza</td>\n",
       "      <td>Takeaway/sandwich shop</td>\n",
       "      <td>Lewes</td>\n",
       "      <td>{'Hygiene': 20}</td>\n",
       "    </tr>\n",
       "    <tr>\n",
       "      <th>4</th>\n",
       "      <td>63cdb99abd029cb27489e53d</td>\n",
       "      <td>Golden Palace</td>\n",
       "      <td>Restaurant/Cafe/Canteen</td>\n",
       "      <td>Lewes</td>\n",
       "      <td>{'Hygiene': 20}</td>\n",
       "    </tr>\n",
       "    <tr>\n",
       "      <th>5</th>\n",
       "      <td>63cdb99abd029cb27489eedb</td>\n",
       "      <td>Ashby's Butchers</td>\n",
       "      <td>Retailers - other</td>\n",
       "      <td>Southend-On-Sea</td>\n",
       "      <td>{'Hygiene': 20}</td>\n",
       "    </tr>\n",
       "    <tr>\n",
       "      <th>6</th>\n",
       "      <td>63cdb99abd029cb27489f0fa</td>\n",
       "      <td>South Sea Express Cuisine</td>\n",
       "      <td>Restaurant/Cafe/Canteen</td>\n",
       "      <td>Southend-On-Sea</td>\n",
       "      <td>{'Hygiene': 20}</td>\n",
       "    </tr>\n",
       "    <tr>\n",
       "      <th>7</th>\n",
       "      <td>63cdb99abd029cb2748a0629</td>\n",
       "      <td>Golden Palace</td>\n",
       "      <td>Takeaway/sandwich shop</td>\n",
       "      <td>Rochford</td>\n",
       "      <td>{'Hygiene': 20}</td>\n",
       "    </tr>\n",
       "    <tr>\n",
       "      <th>8</th>\n",
       "      <td>63cdb99bbd029cb2748a0a6f</td>\n",
       "      <td>The Tulip Tree</td>\n",
       "      <td>Restaurant/Cafe/Canteen</td>\n",
       "      <td>Sevenoaks</td>\n",
       "      <td>{'Hygiene': 20}</td>\n",
       "    </tr>\n",
       "    <tr>\n",
       "      <th>9</th>\n",
       "      <td>63cdb99bbd029cb2748a1280</td>\n",
       "      <td>F &amp; S</td>\n",
       "      <td>Retailers - other</td>\n",
       "      <td>Basildon</td>\n",
       "      <td>{'Hygiene': 20}</td>\n",
       "    </tr>\n",
       "  </tbody>\n",
       "</table>\n",
       "</div>"
      ],
      "text/plain": [
       "                        _id               BusinessName  \\\n",
       "0  63cdb99abd029cb27489dcbb        The Chase Rest Home   \n",
       "1  63cdb99abd029cb27489e03a                 Brenalwood   \n",
       "2  63cdb99abd029cb27489e342              Melrose Hotel   \n",
       "3  63cdb99abd029cb27489e52f              Seaford Pizza   \n",
       "4  63cdb99abd029cb27489e53d              Golden Palace   \n",
       "5  63cdb99abd029cb27489eedb           Ashby's Butchers   \n",
       "6  63cdb99abd029cb27489f0fa  South Sea Express Cuisine   \n",
       "7  63cdb99abd029cb2748a0629              Golden Palace   \n",
       "8  63cdb99bbd029cb2748a0a6f             The Tulip Tree   \n",
       "9  63cdb99bbd029cb2748a1280                      F & S   \n",
       "\n",
       "                        BusinessType LocalAuthorityName           scores  \n",
       "0                    Caring Premises         Eastbourne  {'Hygiene': 20}  \n",
       "1                    Caring Premises           Tendring  {'Hygiene': 20}  \n",
       "2  Hotel/bed & breakfast/guest house           Tendring  {'Hygiene': 20}  \n",
       "3             Takeaway/sandwich shop              Lewes  {'Hygiene': 20}  \n",
       "4            Restaurant/Cafe/Canteen              Lewes  {'Hygiene': 20}  \n",
       "5                  Retailers - other    Southend-On-Sea  {'Hygiene': 20}  \n",
       "6            Restaurant/Cafe/Canteen    Southend-On-Sea  {'Hygiene': 20}  \n",
       "7             Takeaway/sandwich shop           Rochford  {'Hygiene': 20}  \n",
       "8            Restaurant/Cafe/Canteen          Sevenoaks  {'Hygiene': 20}  \n",
       "9                  Retailers - other           Basildon  {'Hygiene': 20}  "
      ]
     },
     "execution_count": 174,
     "metadata": {},
     "output_type": "execute_result"
    }
   ],
   "source": [
    "# Display the number of rows in the DataFrame\n",
    "print(\"Rows in DataFrame: \", len(result_df))\n",
    "\n",
    "# Display the first 10 rows of the DataFrame\n",
    "result_df.head(10)"
   ]
  },
  {
   "cell_type": "markdown",
   "id": "0ef4395a",
   "metadata": {},
   "source": [
    "### 2. Which establishments in London have a `RatingValue` greater than or equal to 4?"
   ]
  },
  {
   "cell_type": "code",
   "execution_count": 175,
   "id": "bbe68b6f",
   "metadata": {},
   "outputs": [],
   "source": [
    "# Find the establishments with London as the Local Authority and has a RatingValue greater than or equal to 4.\n",
    "query = {'LocalAuthorityName':{'$regex':'London'},'RatingValue' :{'$gte':\"4\"}}\n",
    "fields = {'BusinessName':1,'BusinessType': 1,'LocalAuthorityName':1,'RatingValue': 1}\n",
    "                                                           \n",
    "results=establishments.find(query, fields)"
   ]
  },
  {
   "cell_type": "code",
   "execution_count": 176,
   "id": "93c63829",
   "metadata": {},
   "outputs": [
    {
     "data": {
      "text/plain": [
       "34"
      ]
     },
     "execution_count": 176,
     "metadata": {},
     "output_type": "execute_result"
    }
   ],
   "source": [
    "# Use count_documents to display the number of documents in the result\n",
    "LondonRatingValue_Count = establishments.count_documents(query)\n",
    "LondonRatingValue_Count"
   ]
  },
  {
   "cell_type": "code",
   "execution_count": 177,
   "id": "f50074e4",
   "metadata": {},
   "outputs": [
    {
     "name": "stdout",
     "output_type": "stream",
     "text": [
      "{'_id': ObjectId('63cdb99abd029cb27489f6d1'), 'BusinessName': \"Charlie's\", 'BusinessType': 'Other catering premises', 'RatingValue': '4', 'LocalAuthorityName': 'City of London Corporation'}\n"
     ]
    }
   ],
   "source": [
    "# Display the first document in the results using pprint\n",
    "print(results[0])"
   ]
  },
  {
   "cell_type": "code",
   "execution_count": 178,
   "id": "07e24ccb",
   "metadata": {},
   "outputs": [
    {
     "name": "stdout",
     "output_type": "stream",
     "text": [
      "Rows in DataFrame:  34\n"
     ]
    },
    {
     "data": {
      "text/html": [
       "<div>\n",
       "<style scoped>\n",
       "    .dataframe tbody tr th:only-of-type {\n",
       "        vertical-align: middle;\n",
       "    }\n",
       "\n",
       "    .dataframe tbody tr th {\n",
       "        vertical-align: top;\n",
       "    }\n",
       "\n",
       "    .dataframe thead th {\n",
       "        text-align: right;\n",
       "    }\n",
       "</style>\n",
       "<table border=\"1\" class=\"dataframe\">\n",
       "  <thead>\n",
       "    <tr style=\"text-align: right;\">\n",
       "      <th></th>\n",
       "      <th>_id</th>\n",
       "      <th>BusinessName</th>\n",
       "      <th>BusinessType</th>\n",
       "      <th>RatingValue</th>\n",
       "      <th>LocalAuthorityName</th>\n",
       "    </tr>\n",
       "  </thead>\n",
       "  <tbody>\n",
       "    <tr>\n",
       "      <th>0</th>\n",
       "      <td>63cdb99abd029cb27489f6d1</td>\n",
       "      <td>Charlie's</td>\n",
       "      <td>Other catering premises</td>\n",
       "      <td>4</td>\n",
       "      <td>City of London Corporation</td>\n",
       "    </tr>\n",
       "    <tr>\n",
       "      <th>1</th>\n",
       "      <td>63cdb99abd029cb27489f9f6</td>\n",
       "      <td>Mv City Cruises Erasmus</td>\n",
       "      <td>Other catering premises</td>\n",
       "      <td>5</td>\n",
       "      <td>City of London Corporation</td>\n",
       "    </tr>\n",
       "    <tr>\n",
       "      <th>2</th>\n",
       "      <td>63cdb99abd029cb2748a0546</td>\n",
       "      <td>Benfleet Motor Yacht Club</td>\n",
       "      <td>Other catering premises</td>\n",
       "      <td>4</td>\n",
       "      <td>City of London Corporation</td>\n",
       "    </tr>\n",
       "    <tr>\n",
       "      <th>3</th>\n",
       "      <td>63cdb99bbd029cb2748a1344</td>\n",
       "      <td>Coombs Catering t/a The Lock and Key</td>\n",
       "      <td>Restaurant/Cafe/Canteen</td>\n",
       "      <td>5</td>\n",
       "      <td>City of London Corporation</td>\n",
       "    </tr>\n",
       "    <tr>\n",
       "      <th>4</th>\n",
       "      <td>63cdb99bbd029cb2748a1346</td>\n",
       "      <td>Tilbury Seafarers Centre</td>\n",
       "      <td>Restaurant/Cafe/Canteen</td>\n",
       "      <td>5</td>\n",
       "      <td>City of London Corporation</td>\n",
       "    </tr>\n",
       "    <tr>\n",
       "      <th>5</th>\n",
       "      <td>63cdb99bbd029cb2748a1a4d</td>\n",
       "      <td>Mv Valulla</td>\n",
       "      <td>Other catering premises</td>\n",
       "      <td>5</td>\n",
       "      <td>City of London Corporation</td>\n",
       "    </tr>\n",
       "    <tr>\n",
       "      <th>6</th>\n",
       "      <td>63cdb99bbd029cb2748a3b58</td>\n",
       "      <td>Froottree</td>\n",
       "      <td>Other catering premises</td>\n",
       "      <td>AwaitingInspection</td>\n",
       "      <td>City of London Corporation</td>\n",
       "    </tr>\n",
       "    <tr>\n",
       "      <th>7</th>\n",
       "      <td>63cdb99bbd029cb2748a3b59</td>\n",
       "      <td>Tereza Joanne</td>\n",
       "      <td>Other catering premises</td>\n",
       "      <td>5</td>\n",
       "      <td>City of London Corporation</td>\n",
       "    </tr>\n",
       "    <tr>\n",
       "      <th>8</th>\n",
       "      <td>63cdb99bbd029cb2748a3f22</td>\n",
       "      <td>Brick Lane Brews</td>\n",
       "      <td>Restaurant/Cafe/Canteen</td>\n",
       "      <td>4</td>\n",
       "      <td>City of London Corporation</td>\n",
       "    </tr>\n",
       "    <tr>\n",
       "      <th>9</th>\n",
       "      <td>63cdb99bbd029cb2748a3f3b</td>\n",
       "      <td>City Bar &amp; Grill</td>\n",
       "      <td>Restaurant/Cafe/Canteen</td>\n",
       "      <td>5</td>\n",
       "      <td>City of London Corporation</td>\n",
       "    </tr>\n",
       "  </tbody>\n",
       "</table>\n",
       "</div>"
      ],
      "text/plain": [
       "                        _id                          BusinessName  \\\n",
       "0  63cdb99abd029cb27489f6d1                             Charlie's   \n",
       "1  63cdb99abd029cb27489f9f6               Mv City Cruises Erasmus   \n",
       "2  63cdb99abd029cb2748a0546             Benfleet Motor Yacht Club   \n",
       "3  63cdb99bbd029cb2748a1344  Coombs Catering t/a The Lock and Key   \n",
       "4  63cdb99bbd029cb2748a1346              Tilbury Seafarers Centre   \n",
       "5  63cdb99bbd029cb2748a1a4d                            Mv Valulla   \n",
       "6  63cdb99bbd029cb2748a3b58                             Froottree   \n",
       "7  63cdb99bbd029cb2748a3b59                         Tereza Joanne   \n",
       "8  63cdb99bbd029cb2748a3f22                      Brick Lane Brews   \n",
       "9  63cdb99bbd029cb2748a3f3b                      City Bar & Grill   \n",
       "\n",
       "              BusinessType         RatingValue          LocalAuthorityName  \n",
       "0  Other catering premises                   4  City of London Corporation  \n",
       "1  Other catering premises                   5  City of London Corporation  \n",
       "2  Other catering premises                   4  City of London Corporation  \n",
       "3  Restaurant/Cafe/Canteen                   5  City of London Corporation  \n",
       "4  Restaurant/Cafe/Canteen                   5  City of London Corporation  \n",
       "5  Other catering premises                   5  City of London Corporation  \n",
       "6  Other catering premises  AwaitingInspection  City of London Corporation  \n",
       "7  Other catering premises                   5  City of London Corporation  \n",
       "8  Restaurant/Cafe/Canteen                   4  City of London Corporation  \n",
       "9  Restaurant/Cafe/Canteen                   5  City of London Corporation  "
      ]
     },
     "execution_count": 178,
     "metadata": {},
     "output_type": "execute_result"
    }
   ],
   "source": [
    "# Convert the result to a Pandas DataFrame\n",
    "result_df=pd.DataFrame(list(results))\n",
    "\n",
    "# Display the number of rows in the DataFrame\n",
    "print(\"Rows in DataFrame: \", len(result_df))\n",
    "\n",
    "# Display the first 10 rows of the DataFrame\n",
    "result_df.head(10)"
   ]
  },
  {
   "cell_type": "markdown",
   "id": "4e570caf",
   "metadata": {},
   "source": [
    "### 3. What are the top 5 establishments with a `RatingValue` rating value of '5', sorted by lowest hygiene score, nearest to the new restaurant added, \"Penang Flavours\"?"
   ]
  },
  {
   "cell_type": "code",
   "execution_count": 179,
   "id": "b66547c6",
   "metadata": {},
   "outputs": [
    {
     "name": "stdout",
     "output_type": "stream",
     "text": [
      "None\n"
     ]
    }
   ],
   "source": [
    "# Search within 0.01 degree on either side of the latitude and longitude.\n",
    "# Rating value must equal 5\n",
    "# Sort by hygiene score\n",
    "\n",
    "#finding long and lat for Penang Flavours\n",
    "pprint(db.establishments.find_one({'BusinessName': 'Penang Flavours'}))"
   ]
  },
  {
   "cell_type": "code",
   "execution_count": null,
   "id": "b2b96a9a",
   "metadata": {},
   "outputs": [],
   "source": [
    "degree_search = 0.01\n",
    "latitude = \n",
    "longitude = "
   ]
  },
  {
   "cell_type": "code",
   "execution_count": null,
   "id": "7f599f3d",
   "metadata": {},
   "outputs": [],
   "source": [
    "query = {RatingValue' :{'$eq':\"5\"}}\n",
    "fields = {'BusinessName':1,'BusinessType': 1,'LocalAuthorityName':1,'RatingValue': 1,'scores.Hygiene':1}\n",
    "                                                           \n",
    "results=establishments.find(query, fields)\n",
    "\n",
    "# Print the results"
   ]
  },
  {
   "cell_type": "code",
   "execution_count": null,
   "id": "a6ad16f7",
   "metadata": {},
   "outputs": [],
   "source": [
    "# Convert result to Pandas DataFrame\n"
   ]
  },
  {
   "cell_type": "markdown",
   "id": "67281254",
   "metadata": {},
   "source": [
    "### 4. How many establishments in each Local Authority area have a hygiene score of 0?"
   ]
  },
  {
   "cell_type": "code",
   "execution_count": null,
   "id": "4eeb227e",
   "metadata": {},
   "outputs": [],
   "source": [
    "# Create a pipeline that: \n",
    "# 1. Matches establishments with a hygiene score of 0\n",
    "# 2. Groups the matches by Local Authority\n",
    "# 3. Sorts the matches from highest to lowest\n",
    "\n",
    "# Print the number of documents in the result\n",
    "\n",
    "# Print the first 10 results\n"
   ]
  },
  {
   "cell_type": "code",
   "execution_count": null,
   "id": "d8aab364",
   "metadata": {},
   "outputs": [],
   "source": [
    "# Convert the result to a Pandas DataFrame\n",
    "\n",
    "# Display the number of rows in the DataFrame\n",
    "\n",
    "# Display the first 10 rows of the DataFrame\n"
   ]
  }
 ],
 "metadata": {
  "kernelspec": {
   "display_name": "Python 3 (ipykernel)",
   "language": "python",
   "name": "python3"
  },
  "language_info": {
   "codemirror_mode": {
    "name": "ipython",
    "version": 3
   },
   "file_extension": ".py",
   "mimetype": "text/x-python",
   "name": "python",
   "nbconvert_exporter": "python",
   "pygments_lexer": "ipython3",
   "version": "3.9.13"
  }
 },
 "nbformat": 4,
 "nbformat_minor": 5
}
